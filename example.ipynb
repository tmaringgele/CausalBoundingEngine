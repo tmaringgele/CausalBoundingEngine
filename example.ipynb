{
 "cells": [
  {
   "cell_type": "code",
   "execution_count": 1,
   "id": "ae21fece",
   "metadata": {},
   "outputs": [],
   "source": [
    "from causalboundingengine.scenarios import BinaryConf\n",
    "from causalboundingengine.scenarios import ContIV\n",
    "from causalboundingengine.scenarios import BinaryIV\n",
    "import numpy as np\n",
    "import logging\n",
    "logging.basicConfig(level=logging.WARNING)"
   ]
  },
  {
   "cell_type": "markdown",
   "id": "72b3655f",
   "metadata": {},
   "source": [
    "## Binary Confounding"
   ]
  },
  {
   "cell_type": "code",
   "execution_count": 2,
   "id": "cf1881ff",
   "metadata": {},
   "outputs": [
    {
     "data": {
      "text/plain": [
       "(np.float64(0.0), np.float64(0.8))"
      ]
     },
     "execution_count": 2,
     "metadata": {},
     "output_type": "execute_result"
    }
   ],
   "source": [
    "X = np.array([0, 1, 1, 0, 1])  # Example treatment data\n",
    "Y = np.array([1, 1, 1, 0, 1])  # Example outcome data\n",
    "\n",
    "scenario = BinaryConf(X, Y) # Instantiate the scenario with the data\n",
    "scenario.ATE.manski() # Call the Algorithm\n",
    "scenario.PNS.tianpearl() # Call the Algorithm"
   ]
  },
  {
   "cell_type": "markdown",
   "id": "4e127239",
   "metadata": {},
   "source": [
    "## Binary Instrumental Variable"
   ]
  },
  {
   "cell_type": "code",
   "execution_count": 15,
   "id": "de0b561c",
   "metadata": {},
   "outputs": [
    {
     "data": {
      "text/plain": [
       "(np.float64(0.5), np.float64(0.5))"
      ]
     },
     "execution_count": 15,
     "metadata": {},
     "output_type": "execute_result"
    }
   ],
   "source": [
    "Z = np.array([0, 1, 1, 0, 1])  # Example instrumental variable data\n",
    "X = np.array([0, 1, 1, 0, 1])  # Example treatment data\n",
    "Y = np.array([1, 1, 1, 0, 1])  # Example outcome data\n",
    "\n",
    "scenario = BinaryIV(X, Y, Z) # Instantiate the scenario with the data\n",
    "scenario.ATE.autobound() # Call the Algorithm\n",
    "scenario.PNS.autobound() # Call the Algorithm"
   ]
  },
  {
   "cell_type": "markdown",
   "id": "f73eeb71",
   "metadata": {},
   "source": [
    "### Continuous Instrumental Variable"
   ]
  },
  {
   "cell_type": "code",
   "execution_count": null,
   "id": "686dd04a",
   "metadata": {},
   "outputs": [
    {
     "data": {
      "text/plain": [
       "(np.float64(-0.48333333), np.float64(-0.48333333))"
      ]
     },
     "execution_count": 8,
     "metadata": {},
     "output_type": "execute_result"
    }
   ],
   "source": [
    "Z = np.array([0, 1, 1, 0, 1])  # Example instrumental variable data\n",
    "X = np.array([0, 1, 1, 0, 1])  # Example treatment data\n",
    "Y = np.array([1, 0, 0.1, 0.5, 0.7])  # Example outcome data\n",
    "\n",
    "scenario = ContIV(X, Y, Z) # Instantiate the scenario with the data\n",
    "scenario.ATE.zhangbareinboim() # Call the Algorithm"
   ]
  }
 ],
 "metadata": {
  "kernelspec": {
   "display_name": "py312",
   "language": "python",
   "name": "python3"
  },
  "language_info": {
   "codemirror_mode": {
    "name": "ipython",
    "version": 3
   },
   "file_extension": ".py",
   "mimetype": "text/x-python",
   "name": "python",
   "nbconvert_exporter": "python",
   "pygments_lexer": "ipython3",
   "version": "3.12.6"
  }
 },
 "nbformat": 4,
 "nbformat_minor": 5
}

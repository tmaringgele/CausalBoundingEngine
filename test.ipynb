{
 "cells": [
  {
   "cell_type": "code",
   "execution_count": 3,
   "id": "ae21fece",
   "metadata": {},
   "outputs": [
    {
     "name": "stdout",
     "output_type": "stream",
     "text": [
      "The autoreload extension is already loaded. To reload it, use:\n",
      "  %reload_ext autoreload\n"
     ]
    }
   ],
   "source": [
    "%load_ext autoreload\n",
    "%autoreload 2\n",
    "from causalboundingengine.algorithms.tianpearl import TianPearl\n",
    "from causalboundingengine.algorithms.manski import Manski\n",
    "from causalboundingengine.scenarios import BinaryConf\n",
    "from causalboundingengine.scenarios import ContIV\n",
    "from causalboundingengine.scenarios import BinaryIV\n",
    "import numpy as np\n",
    "import logging\n",
    "logging.basicConfig(level=logging.WARNING)"
   ]
  },
  {
   "cell_type": "code",
   "execution_count": 2,
   "id": "8a717bbc",
   "metadata": {},
   "outputs": [
    {
     "data": {
      "text/plain": [
       "(np.float64(-1.0), np.float64(1.0))"
      ]
     },
     "execution_count": 2,
     "metadata": {},
     "output_type": "execute_result"
    }
   ],
   "source": [
    "X = np.array([0, 1, 1])  # Example treatment data\n",
    "Y = np.array([0, 0, 0])  # Example outcome data\n",
    "\n",
    "\n",
    "alg = TianPearl()  # Instantiate the Manski algorithm\n",
    "\n",
    "alg.bound_ATE(X, Y)  # Example usage, replace X and Y with actual data"
   ]
  },
  {
   "cell_type": "code",
   "execution_count": null,
   "id": "686dd04a",
   "metadata": {},
   "outputs": [
    {
     "name": "stderr",
     "output_type": "stream",
     "text": [
      "WARNING:rpy2.rinterface_lib.callbacks:R[write to console]: In addition: \n",
      "WARNING:rpy2.rinterface_lib.callbacks:R[write to console]: Warning message:\n",
      "\n",
      "WARNING:rpy2.rinterface_lib.callbacks:R[write to console]: In boundsfunc(p00_0 = p00_0, p00_1 = p00_1, p10_0 = p10_0, p10_1 = p10_1,  :\n",
      "WARNING:rpy2.rinterface_lib.callbacks:R[write to console]: \n",
      " \n",
      "WARNING:rpy2.rinterface_lib.callbacks:R[write to console]:  Invalid bounds! Data probably does not satisfy the assumptions in the DAG!\n",
      "\n"
     ]
    },
    {
     "data": {
      "text/plain": [
       "(np.float64(0.75), np.float64(0.5))"
      ]
     },
     "execution_count": 2,
     "metadata": {},
     "output_type": "execute_result"
    }
   ],
   "source": [
    "Z = np.array([0, 1, 1, 1, 1])  # Example instrumental variable data\n",
    "X = np.array([0, 1, 1, 0, 1])  # Example treatment data\n",
    "Y = np.array([0, 0, 1, 0, 1])  # Example outcome data\n",
    "\n",
    "\n",
    "\n",
    "scenario = BinaryIV(X, Y, Z) # Instantiate the scenario with the data\n",
    "scenario.ATE.zaffalonbounds()  # Call the Zaffalon bounds method"
   ]
  }
 ],
 "metadata": {
  "kernelspec": {
   "display_name": "py312",
   "language": "python",
   "name": "python3"
  },
  "language_info": {
   "codemirror_mode": {
    "name": "ipython",
    "version": 3
   },
   "file_extension": ".py",
   "mimetype": "text/x-python",
   "name": "python",
   "nbconvert_exporter": "python",
   "pygments_lexer": "ipython3",
   "version": "3.12.6"
  }
 },
 "nbformat": 4,
 "nbformat_minor": 5
}

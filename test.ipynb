{
 "cells": [
  {
   "cell_type": "code",
   "execution_count": 12,
   "id": "ae21fece",
   "metadata": {},
   "outputs": [
    {
     "name": "stdout",
     "output_type": "stream",
     "text": [
      "The autoreload extension is already loaded. To reload it, use:\n",
      "  %reload_ext autoreload\n"
     ]
    }
   ],
   "source": [
    "%load_ext autoreload\n",
    "%autoreload 2\n",
    "from causalboundingengine.algorithms.tianpearl import TianPearl\n",
    "from causalboundingengine.algorithms.manski import Manski\n",
    "from causalboundingengine.scenarios import BinaryConf\n",
    "from causalboundingengine.scenarios import ContIV\n",
    "from causalboundingengine.scenarios import BinaryIV\n",
    "import numpy as np\n",
    "import logging\n",
    "logging.basicConfig(level=logging.WARNING)"
   ]
  },
  {
   "cell_type": "code",
   "execution_count": 2,
   "id": "8a717bbc",
   "metadata": {},
   "outputs": [
    {
     "data": {
      "text/plain": [
       "(np.float64(-1.0), np.float64(1.0))"
      ]
     },
     "execution_count": 2,
     "metadata": {},
     "output_type": "execute_result"
    }
   ],
   "source": [
    "X = np.array([0, 1, 1])  # Example treatment data\n",
    "Y = np.array([0, 0, 0])  # Example outcome data\n",
    "\n",
    "\n",
    "alg = TianPearl()  # Instantiate the Manski algorithm\n",
    "\n",
    "alg.bound_ATE(X, Y)  # Example usage, replace X and Y with actual data"
   ]
  },
  {
   "cell_type": "code",
   "execution_count": 6,
   "id": "706253e1",
   "metadata": {},
   "outputs": [
    {
     "name": "stdout",
     "output_type": "stream",
     "text": [
      "✓ manski: (np.float64(-1.0), np.float64(0.9504525593008739))\n",
      "✓ tianpearl: (np.float64(-0.1685393258426966), np.float64(0.06944444444444442))\n",
      "✓ autobound: (np.float64(-0.55), np.float64(0.44999999999999996))\n"
     ]
    }
   ],
   "source": [
    "def robust_analysis(X, Y, Z=None):\n",
    "    \"\"\"Run multiple algorithms for robustness.\"\"\"\n",
    "    if Z is None:\n",
    "        scenario = BinaryConf(X, Y)\n",
    "        algorithms = ['manski', 'tianpearl', 'autobound']\n",
    "    else:\n",
    "        scenario = BinaryIV(X, Y, Z)  \n",
    "        algorithms = ['autobound']  # Add 'causaloptim', 'zaffalonbounds' if available\n",
    "    \n",
    "    results = {}\n",
    "    for alg in algorithms:\n",
    "        try:\n",
    "            results[alg] = getattr(scenario.ATE, alg)()\n",
    "            print(f\"✓ {alg}: {results[alg]}\")\n",
    "        except Exception as e:\n",
    "            print(f\"✗ {alg}: {e}\")\n",
    "    \n",
    "    return results\n",
    "\n",
    "# Run robust analysis\n",
    "bounds_dict = robust_analysis(X, Y)"
   ]
  },
  {
   "cell_type": "code",
   "execution_count": 35,
   "id": "686dd04a",
   "metadata": {},
   "outputs": [
    {
     "data": {
      "text/plain": [
       "(np.float64(-0.48333333), np.float64(-0.48333333))"
      ]
     },
     "execution_count": 35,
     "metadata": {},
     "output_type": "execute_result"
    }
   ],
   "source": [
    "Z = np.array([0, 1, 1, 0, 1])  # Example instrumental variable data\n",
    "X = np.array([0, 1, 1, 0, 1])  # Example treatment data\n",
    "Y = np.array([1, 0, 0.1, 0.5, 0.7])  # Example outcome data\n",
    "\n",
    "\n",
    "\n",
    "scenario = ContIV(X, Y, Z) # Instantiate the scenario with the data\n",
    "scenario.ATE.zhangbareinboim() # Call the Zaffalon bounds method"
   ]
  }
 ],
 "metadata": {
  "kernelspec": {
   "display_name": "py312",
   "language": "python",
   "name": "python3"
  },
  "language_info": {
   "codemirror_mode": {
    "name": "ipython",
    "version": 3
   },
   "file_extension": ".py",
   "mimetype": "text/x-python",
   "name": "python",
   "nbconvert_exporter": "python",
   "pygments_lexer": "ipython3",
   "version": "3.12.6"
  }
 },
 "nbformat": 4,
 "nbformat_minor": 5
}

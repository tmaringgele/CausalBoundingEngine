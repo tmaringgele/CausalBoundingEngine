{
 "cells": [
  {
   "cell_type": "code",
   "execution_count": 15,
   "id": "ae21fece",
   "metadata": {},
   "outputs": [
    {
     "name": "stdout",
     "output_type": "stream",
     "text": [
      "The autoreload extension is already loaded. To reload it, use:\n",
      "  %reload_ext autoreload\n"
     ]
    }
   ],
   "source": [
    "%load_ext autoreload\n",
    "%autoreload 2\n",
    "from causalboundingengine.algorithms.conf.tianpearl import TianPearl\n",
    "from causalboundingengine.algorithms.conf.manski import Manski\n",
    "from causalboundingengine.scenarios.confounding.binaryconf import BinaryConf\n",
    "import numpy as np\n",
    "import logging\n",
    "logging.basicConfig(level=logging.WARNING)"
   ]
  },
  {
   "cell_type": "code",
   "execution_count": 13,
   "id": "8a717bbc",
   "metadata": {},
   "outputs": [
    {
     "data": {
      "text/plain": [
       "(np.float64(0.0), np.float64(1.0))"
      ]
     },
     "execution_count": 13,
     "metadata": {},
     "output_type": "execute_result"
    }
   ],
   "source": [
    "X = np.array([0, 1, 1])  # Example treatment data\n",
    "Y = np.array([0, 1, 0])  # Example outcome data\n",
    "\n",
    "\n",
    "alg = TianPearl()  # Instantiate the Manski algorithm\n",
    "\n",
    "alg.bound_ATE(X, Y)  # Example usage, replace X and Y with actual data"
   ]
  },
  {
   "cell_type": "code",
   "execution_count": 19,
   "id": "686dd04a",
   "metadata": {},
   "outputs": [
    {
     "data": {
      "text/plain": [
       "(np.float64(0.0), np.float64(0.6666666666666666))"
      ]
     },
     "execution_count": 19,
     "metadata": {},
     "output_type": "execute_result"
    }
   ],
   "source": [
    "scenario = BinaryConf(X, Y)\n",
    "scenario.ATE.manski()\n",
    "scenario.PNS.tianpearl()"
   ]
  },
  {
   "cell_type": "code",
   "execution_count": null,
   "id": "f9477c56",
   "metadata": {},
   "outputs": [],
   "source": [
    "#What way of calling my package makes intutive sense?\n",
    "\n",
    "scenario = BinaryIV(Z, X, Y)\n",
    "scenario.run(['ATE_manski', 'ATE_tianpearl']) #returns a dictionary of results from each algorithm\n",
    "# or\n",
    "\n",
    "scenario.ATE.manski() #returns bounds directly"
   ]
  }
 ],
 "metadata": {
  "kernelspec": {
   "display_name": "py312",
   "language": "python",
   "name": "python3"
  },
  "language_info": {
   "codemirror_mode": {
    "name": "ipython",
    "version": 3
   },
   "file_extension": ".py",
   "mimetype": "text/x-python",
   "name": "python",
   "nbconvert_exporter": "python",
   "pygments_lexer": "ipython3",
   "version": "3.12.6"
  }
 },
 "nbformat": 4,
 "nbformat_minor": 5
}

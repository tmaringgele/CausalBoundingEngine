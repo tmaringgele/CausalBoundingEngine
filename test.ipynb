{
 "cells": [
  {
   "cell_type": "code",
   "execution_count": 12,
   "id": "ae21fece",
   "metadata": {},
   "outputs": [
    {
     "name": "stdout",
     "output_type": "stream",
     "text": [
      "The autoreload extension is already loaded. To reload it, use:\n",
      "  %reload_ext autoreload\n"
     ]
    }
   ],
   "source": [
    "%load_ext autoreload\n",
    "%autoreload 2\n",
    "from causalboundingengine.algorithms.tianpearl import TianPearl\n",
    "from causalboundingengine.algorithms.manski import Manski\n",
    "from causalboundingengine.scenarios import BinaryConf\n",
    "from causalboundingengine.scenarios import ContIV\n",
    "from causalboundingengine.scenarios import BinaryIV\n",
    "import numpy as np\n",
    "import logging\n",
    "logging.basicConfig(level=logging.WARNING)"
   ]
  },
  {
   "cell_type": "code",
   "execution_count": 2,
   "id": "8a717bbc",
   "metadata": {},
   "outputs": [
    {
     "data": {
      "text/plain": [
       "(np.float64(-1.0), np.float64(1.0))"
      ]
     },
     "execution_count": 2,
     "metadata": {},
     "output_type": "execute_result"
    }
   ],
   "source": [
    "X = np.array([0, 1, 1])  # Example treatment data\n",
    "Y = np.array([0, 0, 0])  # Example outcome data\n",
    "\n",
    "\n",
    "alg = TianPearl()  # Instantiate the Manski algorithm\n",
    "\n",
    "alg.bound_ATE(X, Y)  # Example usage, replace X and Y with actual data"
   ]
  },
  {
   "cell_type": "code",
   "execution_count": 27,
   "id": "706253e1",
   "metadata": {},
   "outputs": [
    {
     "name": "stdout",
     "output_type": "stream",
     "text": [
      "Manski bounds: (np.float64(-1.0), np.float64(0.9504525593008739))\n",
      "Tian-Pearl bounds: (np.float64(-0.1685393258426966), np.float64(0.06944444444444442))\n",
      "ATE algorithms: ['manski', 'tianpearl', 'entropybounds', 'causaloptim', 'zaffalonbounds', 'autobound']\n",
      "PNS algorithms: ['tianpearl', 'entropybounds', 'causaloptim', 'zaffalonbounds', 'autobound']\n"
     ]
    }
   ],
   "source": [
    "import numpy as np\n",
    "from causalboundingengine.scenarios import BinaryConf\n",
    "\n",
    "# Generate some example data\n",
    "np.random.seed(42)\n",
    "n = 1000\n",
    "X = np.random.binomial(1, 0.3, n)  # Treatment (binary)\n",
    "Y = np.random.binomial(1, 0.6, n)  # Outcome (binary)\n",
    "\n",
    "# Create scenario\n",
    "scenario = BinaryConf(X, Y)\n",
    "\n",
    "# Compute ATE bounds using different algorithms\n",
    "manski_bounds = scenario.ATE.manski()\n",
    "tianpearl_bounds = scenario.ATE.tianpearl()\n",
    "\n",
    "print(f\"Manski bounds: {manski_bounds}\")\n",
    "print(f\"Tian-Pearl bounds: {tianpearl_bounds}\")\n",
    "\n",
    "\n",
    "print(\"ATE algorithms:\", scenario.get_algorithms('ATE'))\n",
    "print(\"PNS algorithms:\", scenario.get_algorithms('PNS'))"
   ]
  },
  {
   "cell_type": "code",
   "execution_count": 35,
   "id": "686dd04a",
   "metadata": {},
   "outputs": [
    {
     "data": {
      "text/plain": [
       "(np.float64(-0.48333333), np.float64(-0.48333333))"
      ]
     },
     "execution_count": 35,
     "metadata": {},
     "output_type": "execute_result"
    }
   ],
   "source": [
    "Z = np.array([0, 1, 1, 0, 1])  # Example instrumental variable data\n",
    "X = np.array([0, 1, 1, 0, 1])  # Example treatment data\n",
    "Y = np.array([1, 0, 0.1, 0.5, 0.7])  # Example outcome data\n",
    "\n",
    "\n",
    "\n",
    "scenario = ContIV(X, Y, Z) # Instantiate the scenario with the data\n",
    "scenario.ATE.zhangbareinboim() # Call the Zaffalon bounds method"
   ]
  }
 ],
 "metadata": {
  "kernelspec": {
   "display_name": "py312",
   "language": "python",
   "name": "python3"
  },
  "language_info": {
   "codemirror_mode": {
    "name": "ipython",
    "version": 3
   },
   "file_extension": ".py",
   "mimetype": "text/x-python",
   "name": "python",
   "nbconvert_exporter": "python",
   "pygments_lexer": "ipython3",
   "version": "3.12.6"
  }
 },
 "nbformat": 4,
 "nbformat_minor": 5
}

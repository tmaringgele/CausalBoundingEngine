{
 "cells": [
  {
   "cell_type": "code",
   "execution_count": null,
   "id": "ae21fece",
   "metadata": {
    "vscode": {
     "languageId": "plaintext"
    }
   },
   "outputs": [],
   "source": [
    "from causalboundingengine.algorithms.manski import Manski"
   ]
  }
 ],
 "metadata": {
  "language_info": {
   "name": "python"
  }
 },
 "nbformat": 4,
 "nbformat_minor": 5
}

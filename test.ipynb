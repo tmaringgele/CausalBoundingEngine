{
 "cells": [
  {
   "cell_type": "code",
   "execution_count": 17,
   "id": "ae21fece",
   "metadata": {},
   "outputs": [
    {
     "name": "stdout",
     "output_type": "stream",
     "text": [
      "The autoreload extension is already loaded. To reload it, use:\n",
      "  %reload_ext autoreload\n"
     ]
    }
   ],
   "source": [
    "%load_ext autoreload\n",
    "%autoreload 2\n",
    "from causalboundingengine.algorithms.conf.manski import Manski\n",
    "import numpy as np"
   ]
  },
  {
   "cell_type": "code",
   "execution_count": null,
   "id": "8a717bbc",
   "metadata": {},
   "outputs": [
    {
     "ename": "TypeError",
     "evalue": "'Manski' object is not callable",
     "output_type": "error",
     "traceback": [
      "\u001b[1;31m---------------------------------------------------------------------------\u001b[0m",
      "\u001b[1;31mTypeError\u001b[0m                                 Traceback (most recent call last)",
      "Cell \u001b[1;32mIn[19], line 5\u001b[0m\n\u001b[0;32m      1\u001b[0m X \u001b[38;5;241m=\u001b[39m np\u001b[38;5;241m.\u001b[39marray([\u001b[38;5;241m0\u001b[39m, \u001b[38;5;241m1\u001b[39m, \u001b[38;5;241m1\u001b[39m])  \u001b[38;5;66;03m# Example treatment data\u001b[39;00m\n\u001b[0;32m      2\u001b[0m Y \u001b[38;5;241m=\u001b[39m np\u001b[38;5;241m.\u001b[39marray([\u001b[38;5;241m0\u001b[39m, \u001b[38;5;241m1\u001b[39m, \u001b[38;5;241m0\u001b[39m])  \u001b[38;5;66;03m# Example outcome data\u001b[39;00m\n\u001b[1;32m----> 5\u001b[0m Manski \u001b[38;5;241m=\u001b[39m \u001b[43mManski\u001b[49m\u001b[43m(\u001b[49m\u001b[43m)\u001b[49m  \u001b[38;5;66;03m# Instantiate the Manski algorithm\u001b[39;00m\n\u001b[0;32m      7\u001b[0m Manski\u001b[38;5;241m.\u001b[39mbound_ATE(X, Y)  \u001b[38;5;66;03m# Example usage, replace X and Y with actual data\u001b[39;00m\n",
      "\u001b[1;31mTypeError\u001b[0m: 'Manski' object is not callable"
     ]
    }
   ],
   "source": [
    "X = np.array([0, 1, 1])  # Example treatment data\n",
    "Y = np.array([0, 1, 0])  # Example outcome data\n",
    "\n",
    "\n",
    "manski = Manski()  # Instantiate the Manski algorithm\n",
    "\n",
    "manski.bound_ATE(X, Y)  # Example usage, replace X and Y with actual data"
   ]
  },
  {
   "cell_type": "code",
   "execution_count": null,
   "id": "f9477c56",
   "metadata": {},
   "outputs": [],
   "source": [
    "#What way of calling my package makes intutive sense?\n",
    "\n",
    "scenario = BinaryIV(Z, X, Y)\n",
    "scenario.run(['ATE_manski', 'ATE_tianpearl']) #returns a dictionary of results from each algorithm\n",
    "# or\n",
    "\n",
    "scenario.ATE.manski() #returns bounds directly"
   ]
  }
 ],
 "metadata": {
  "kernelspec": {
   "display_name": "py312",
   "language": "python",
   "name": "python3"
  },
  "language_info": {
   "codemirror_mode": {
    "name": "ipython",
    "version": 3
   },
   "file_extension": ".py",
   "mimetype": "text/x-python",
   "name": "python",
   "nbconvert_exporter": "python",
   "pygments_lexer": "ipython3",
   "version": "3.12.6"
  }
 },
 "nbformat": 4,
 "nbformat_minor": 5
}

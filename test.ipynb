{
 "cells": [
  {
   "cell_type": "code",
   "execution_count": 2,
   "id": "ae21fece",
   "metadata": {},
   "outputs": [],
   "source": [
    "%load_ext autoreload\n",
    "%autoreload 2\n",
    "from causalboundingengine.algorithms.tianpearl import TianPearl\n",
    "from causalboundingengine.algorithms.manski import Manski\n",
    "from causalboundingengine.scenarios import BinaryConf\n",
    "from causalboundingengine.scenarios import ContIV\n",
    "from causalboundingengine.scenarios import BinaryIV\n",
    "import numpy as np\n",
    "import logging\n",
    "logging.basicConfig(level=logging.WARNING)"
   ]
  },
  {
   "cell_type": "code",
   "execution_count": 2,
   "id": "8a717bbc",
   "metadata": {},
   "outputs": [
    {
     "data": {
      "text/plain": [
       "(np.float64(-1.0), np.float64(1.0))"
      ]
     },
     "execution_count": 2,
     "metadata": {},
     "output_type": "execute_result"
    }
   ],
   "source": [
    "X = np.array([0, 1, 1])  # Example treatment data\n",
    "Y = np.array([0, 0, 0])  # Example outcome data\n",
    "\n",
    "\n",
    "alg = TianPearl()  # Instantiate the Manski algorithm\n",
    "\n",
    "alg.bound_ATE(X, Y)  # Example usage, replace X and Y with actual data"
   ]
  },
  {
   "cell_type": "code",
   "execution_count": 5,
   "id": "686dd04a",
   "metadata": {},
   "outputs": [
    {
     "name": "stderr",
     "output_type": "stream",
     "text": [
      "WARNING:causalboundingengine.algorithms.algorithm:Failed to compute ATE bounds: CausalOptim._compute_ATE() got multiple values for argument 'X'\n"
     ]
    },
    {
     "data": {
      "text/plain": [
       "(np.float64(-1.0), np.float64(1.0))"
      ]
     },
     "execution_count": 5,
     "metadata": {},
     "output_type": "execute_result"
    }
   ],
   "source": [
    "Z = np.array([0, 1, 1, 1, 1])  # Example instrumental variable data\n",
    "X = np.array([0, 1, 1, 1, 1])  # Example treatment data\n",
    "Y = np.array([0, 1, 1, 1, 1])  # Example outcome data\n",
    "\n",
    "\n",
    "\n",
    "scenario = BinaryConf(X, Y) # Instantiate the scenario with the data\n",
    "scenario.ATE.causaloptim('D:/Program Files/R-4.5.0')"
   ]
  }
 ],
 "metadata": {
  "kernelspec": {
   "display_name": "py312",
   "language": "python",
   "name": "python3"
  },
  "language_info": {
   "codemirror_mode": {
    "name": "ipython",
    "version": 3
   },
   "file_extension": ".py",
   "mimetype": "text/x-python",
   "name": "python",
   "nbconvert_exporter": "python",
   "pygments_lexer": "ipython3",
   "version": "3.12.6"
  }
 },
 "nbformat": 4,
 "nbformat_minor": 5
}
